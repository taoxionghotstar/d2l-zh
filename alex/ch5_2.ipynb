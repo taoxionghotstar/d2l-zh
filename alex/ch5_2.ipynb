{
 "cells": [
  {
   "cell_type": "code",
   "execution_count": 1,
   "id": "initial_id",
   "metadata": {
    "collapsed": true,
    "ExecuteTime": {
     "end_time": "2024-03-24T12:46:14.404354Z",
     "start_time": "2024-03-24T12:46:13.975180Z"
    }
   },
   "outputs": [],
   "source": [
    "import torch\n",
    "from torch import nn"
   ]
  },
  {
   "cell_type": "code",
   "outputs": [
    {
     "data": {
      "text/plain": "tensor([[-0.1116],\n        [-0.1113]], grad_fn=<AddmmBackward0>)"
     },
     "execution_count": 2,
     "metadata": {},
     "output_type": "execute_result"
    }
   ],
   "source": [
    "net = nn.Sequential(nn.Linear(4, 8), nn.ReLU(), nn.Linear(8, 1))\n",
    "X = torch.rand(size=(2, 4))\n",
    "net(X)"
   ],
   "metadata": {
    "collapsed": false,
    "ExecuteTime": {
     "end_time": "2024-03-24T12:46:58.315566Z",
     "start_time": "2024-03-24T12:46:58.306786Z"
    }
   },
   "id": "b9a1945d6f174785",
   "execution_count": 2
  },
  {
   "cell_type": "code",
   "outputs": [
    {
     "name": "stdout",
     "output_type": "stream",
     "text": [
      "OrderedDict([('weight', tensor([[ 0.2434, -0.1100,  0.1309,  0.2301, -0.0763, -0.0255,  0.3154,  0.2030]])), ('bias', tensor([-0.1708]))])\n"
     ]
    }
   ],
   "source": [
    "print(net[2].state_dict())"
   ],
   "metadata": {
    "collapsed": false,
    "ExecuteTime": {
     "end_time": "2024-03-24T12:48:03.835713Z",
     "start_time": "2024-03-24T12:48:03.829837Z"
    }
   },
   "id": "50a0f89e36f34b1c",
   "execution_count": 3
  },
  {
   "cell_type": "code",
   "outputs": [
    {
     "name": "stdout",
     "output_type": "stream",
     "text": [
      "<class 'torch.nn.parameter.Parameter'>\n"
     ]
    }
   ],
   "source": [
    "print(type(net[2].bias))"
   ],
   "metadata": {
    "collapsed": false,
    "ExecuteTime": {
     "end_time": "2024-03-24T12:49:34.539317Z",
     "start_time": "2024-03-24T12:49:34.534256Z"
    }
   },
   "id": "5fd7733033f505bd",
   "execution_count": 4
  },
  {
   "cell_type": "code",
   "outputs": [
    {
     "name": "stdout",
     "output_type": "stream",
     "text": [
      "Parameter containing:\n",
      "tensor([-0.1708], requires_grad=True)\n"
     ]
    }
   ],
   "source": [
    "print(net[2].bias)"
   ],
   "metadata": {
    "collapsed": false,
    "ExecuteTime": {
     "end_time": "2024-03-24T12:49:43.786014Z",
     "start_time": "2024-03-24T12:49:43.782739Z"
    }
   },
   "id": "545246d59e92854d",
   "execution_count": 5
  },
  {
   "cell_type": "code",
   "outputs": [
    {
     "name": "stdout",
     "output_type": "stream",
     "text": [
      "tensor([-0.1708])\n"
     ]
    }
   ],
   "source": [
    "print(net[2].bias.data)"
   ],
   "metadata": {
    "collapsed": false,
    "ExecuteTime": {
     "end_time": "2024-03-24T12:49:54.353218Z",
     "start_time": "2024-03-24T12:49:54.350155Z"
    }
   },
   "id": "169aeed50be0829d",
   "execution_count": 6
  },
  {
   "cell_type": "code",
   "outputs": [
    {
     "data": {
      "text/plain": "True"
     },
     "execution_count": 7,
     "metadata": {},
     "output_type": "execute_result"
    }
   ],
   "source": [
    "net[2].weight.grad == None"
   ],
   "metadata": {
    "collapsed": false,
    "ExecuteTime": {
     "end_time": "2024-03-24T12:50:37.714739Z",
     "start_time": "2024-03-24T12:50:37.709610Z"
    }
   },
   "id": "f10ece50c4680e64",
   "execution_count": 7
  },
  {
   "cell_type": "code",
   "outputs": [
    {
     "name": "stdout",
     "output_type": "stream",
     "text": [
      "('weight', torch.Size([8, 4])) ('bias', torch.Size([8]))\n"
     ]
    }
   ],
   "source": [
    "print(*[(name, param.shape) for name, param in net[0].named_parameters()])"
   ],
   "metadata": {
    "collapsed": false,
    "ExecuteTime": {
     "end_time": "2024-03-24T12:51:32.736164Z",
     "start_time": "2024-03-24T12:51:32.733357Z"
    }
   },
   "id": "f49104107e7d96c5",
   "execution_count": 9
  },
  {
   "cell_type": "code",
   "outputs": [
    {
     "name": "stdout",
     "output_type": "stream",
     "text": [
      "('0.weight', torch.Size([8, 4])) ('0.bias', torch.Size([8])) ('2.weight', torch.Size([1, 8])) ('2.bias', torch.Size([1]))\n"
     ]
    }
   ],
   "source": [
    "print(*[(name, param.shape) for name, param in net.named_parameters()])"
   ],
   "metadata": {
    "collapsed": false,
    "ExecuteTime": {
     "end_time": "2024-03-24T12:52:07.743007Z",
     "start_time": "2024-03-24T12:52:07.740404Z"
    }
   },
   "id": "98ce1f35199789c8",
   "execution_count": 10
  },
  {
   "cell_type": "code",
   "outputs": [
    {
     "data": {
      "text/plain": "tensor([-0.1708])"
     },
     "execution_count": 11,
     "metadata": {},
     "output_type": "execute_result"
    }
   ],
   "source": [
    "net.state_dict()['2.bias'].data"
   ],
   "metadata": {
    "collapsed": false,
    "ExecuteTime": {
     "end_time": "2024-03-24T12:52:40.960420Z",
     "start_time": "2024-03-24T12:52:40.953327Z"
    }
   },
   "id": "bb8eb996a87a7258",
   "execution_count": 11
  },
  {
   "cell_type": "code",
   "outputs": [
    {
     "data": {
      "text/plain": "OrderedDict([('0.weight',\n              tensor([[-0.1900, -0.0779,  0.4285, -0.4349],\n                      [ 0.2189,  0.3050,  0.2046, -0.3727],\n                      [ 0.3837,  0.4397, -0.3495,  0.1509],\n                      [-0.0377, -0.4028, -0.3741, -0.1015],\n                      [ 0.3191, -0.2989, -0.2267,  0.4002],\n                      [-0.3694,  0.4979,  0.2060, -0.4651],\n                      [-0.3787,  0.3451, -0.4429,  0.4040],\n                      [ 0.3714,  0.0248,  0.3810, -0.3639]])),\n             ('0.bias',\n              tensor([-0.2834,  0.3825, -0.3300,  0.1202,  0.3156,  0.2674, -0.4279,  0.3169])),\n             ('2.weight',\n              tensor([[ 0.2434, -0.1100,  0.1309,  0.2301, -0.0763, -0.0255,  0.3154,  0.2030]])),\n             ('2.bias', tensor([-0.1708]))])"
     },
     "execution_count": 12,
     "metadata": {},
     "output_type": "execute_result"
    }
   ],
   "source": [
    "net.state_dict()"
   ],
   "metadata": {
    "collapsed": false,
    "ExecuteTime": {
     "end_time": "2024-03-24T12:52:59.118923Z",
     "start_time": "2024-03-24T12:52:59.113897Z"
    }
   },
   "id": "549c6e463ed3fa76",
   "execution_count": 12
  },
  {
   "cell_type": "code",
   "outputs": [],
   "source": [
    "def block1():\n",
    "    return nn.Sequential(nn.Linear(4, 8), nn.ReLU(), nn.Linear(8, 4), nn.ReLU())\n",
    "\n",
    "def block2():\n",
    "    net = nn.Sequential()\n",
    "    for i in range(4):\n",
    "        net.add_module(f'block {i}', block1())\n",
    "    return net"
   ],
   "metadata": {
    "collapsed": false,
    "ExecuteTime": {
     "end_time": "2024-03-24T12:54:50.737496Z",
     "start_time": "2024-03-24T12:54:50.732120Z"
    }
   },
   "id": "f21fa5d3d0115e98",
   "execution_count": 13
  },
  {
   "cell_type": "code",
   "outputs": [
    {
     "data": {
      "text/plain": "tensor([[-0.3138],\n        [-0.3138]], grad_fn=<AddmmBackward0>)"
     },
     "execution_count": 14,
     "metadata": {},
     "output_type": "execute_result"
    }
   ],
   "source": [
    "rgnet = nn.Sequential(block2(), nn.Linear(4, 1))\n",
    "rgnet(X)"
   ],
   "metadata": {
    "collapsed": false,
    "ExecuteTime": {
     "end_time": "2024-03-24T12:55:07.478589Z",
     "start_time": "2024-03-24T12:55:07.472221Z"
    }
   },
   "id": "8e4d64a6cb871257",
   "execution_count": 14
  },
  {
   "cell_type": "code",
   "outputs": [
    {
     "name": "stdout",
     "output_type": "stream",
     "text": [
      "Sequential(\n",
      "  (0): Sequential(\n",
      "    (block 0): Sequential(\n",
      "      (0): Linear(in_features=4, out_features=8, bias=True)\n",
      "      (1): ReLU()\n",
      "      (2): Linear(in_features=8, out_features=4, bias=True)\n",
      "      (3): ReLU()\n",
      "    )\n",
      "    (block 1): Sequential(\n",
      "      (0): Linear(in_features=4, out_features=8, bias=True)\n",
      "      (1): ReLU()\n",
      "      (2): Linear(in_features=8, out_features=4, bias=True)\n",
      "      (3): ReLU()\n",
      "    )\n",
      "    (block 2): Sequential(\n",
      "      (0): Linear(in_features=4, out_features=8, bias=True)\n",
      "      (1): ReLU()\n",
      "      (2): Linear(in_features=8, out_features=4, bias=True)\n",
      "      (3): ReLU()\n",
      "    )\n",
      "    (block 3): Sequential(\n",
      "      (0): Linear(in_features=4, out_features=8, bias=True)\n",
      "      (1): ReLU()\n",
      "      (2): Linear(in_features=8, out_features=4, bias=True)\n",
      "      (3): ReLU()\n",
      "    )\n",
      "  )\n",
      "  (1): Linear(in_features=4, out_features=1, bias=True)\n",
      ")\n"
     ]
    }
   ],
   "source": [
    "print(rgnet)"
   ],
   "metadata": {
    "collapsed": false,
    "ExecuteTime": {
     "end_time": "2024-03-24T12:55:22.493250Z",
     "start_time": "2024-03-24T12:55:22.487840Z"
    }
   },
   "id": "189c009299ca6cff",
   "execution_count": 15
  },
  {
   "cell_type": "code",
   "outputs": [
    {
     "data": {
      "text/plain": "OrderedDict([('0.block 0.0.weight',\n              tensor([[-0.1676, -0.1082,  0.3848,  0.1115],\n                      [ 0.4825, -0.1003,  0.4507, -0.4876],\n                      [ 0.3887,  0.0196,  0.0998,  0.4379],\n                      [-0.4831, -0.3463,  0.4970, -0.4265],\n                      [-0.3282,  0.4777,  0.1045,  0.3084],\n                      [ 0.3728,  0.2287,  0.2448, -0.4413],\n                      [ 0.3964, -0.3567,  0.1648,  0.4491],\n                      [ 0.2305,  0.4192, -0.0365,  0.0910]])),\n             ('0.block 0.0.bias',\n              tensor([ 0.0405, -0.0970, -0.4696,  0.0927, -0.2291,  0.3653, -0.4676, -0.2367])),\n             ('0.block 0.2.weight',\n              tensor([[-2.6223e-01,  2.8297e-01,  2.0721e-01,  5.2101e-02,  1.4441e-01,\n                       -1.6125e-01, -2.7731e-01, -2.7768e-01],\n                      [ 2.5065e-01,  1.7438e-01, -2.9555e-01, -2.4495e-01,  1.6165e-02,\n                        7.8023e-02,  1.4550e-01,  1.5711e-02],\n                      [ 2.0604e-01, -1.4160e-01,  1.5787e-01,  6.1254e-02, -3.3095e-01,\n                       -1.9560e-01, -4.1252e-02, -1.0134e-01],\n                      [-3.1953e-01,  2.7950e-01,  7.9991e-02, -3.2133e-01,  1.0799e-01,\n                        1.0475e-01, -2.0382e-04,  8.8777e-02]])),\n             ('0.block 0.2.bias',\n              tensor([ 0.0565, -0.1914,  0.1255,  0.0624])),\n             ('0.block 1.0.weight',\n              tensor([[-0.1409, -0.3054,  0.2162,  0.3439],\n                      [-0.2689,  0.4645,  0.3361, -0.0820],\n                      [ 0.3030,  0.0750, -0.4252,  0.0762],\n                      [-0.0570, -0.3391, -0.0566, -0.3847],\n                      [-0.3504, -0.1078, -0.1852, -0.3750],\n                      [-0.3861,  0.4988, -0.0584, -0.3702],\n                      [-0.3775, -0.1177,  0.2056, -0.4618],\n                      [ 0.1940, -0.3205,  0.0267, -0.4396]])),\n             ('0.block 1.0.bias',\n              tensor([ 0.3267,  0.0437,  0.3332,  0.1665, -0.1838, -0.4190, -0.3403, -0.1900])),\n             ('0.block 1.2.weight',\n              tensor([[ 0.3177,  0.0788, -0.1337,  0.0920,  0.2283, -0.0695,  0.1148, -0.1510],\n                      [ 0.0421, -0.1991, -0.0178,  0.2390, -0.0567, -0.1117, -0.0066,  0.1734],\n                      [-0.0939,  0.0052, -0.1990, -0.3404, -0.1831, -0.1768, -0.0463,  0.0329],\n                      [ 0.2480, -0.3189,  0.1864, -0.1812, -0.1042, -0.0483,  0.2736, -0.0831]])),\n             ('0.block 1.2.bias',\n              tensor([ 0.2448, -0.0943, -0.1562, -0.2842])),\n             ('0.block 2.0.weight',\n              tensor([[-0.2451, -0.1194, -0.0748,  0.1705],\n                      [-0.2626, -0.3865, -0.2376, -0.0566],\n                      [-0.4550, -0.4716,  0.0963, -0.4488],\n                      [-0.4788,  0.2861, -0.1464,  0.4021],\n                      [ 0.2653,  0.3440,  0.1581,  0.2035],\n                      [ 0.3957, -0.0385,  0.3771,  0.4109],\n                      [-0.2646, -0.4799, -0.0364,  0.0660],\n                      [-0.0357,  0.2603,  0.4709,  0.2452]])),\n             ('0.block 2.0.bias',\n              tensor([ 0.2786,  0.1691, -0.4774, -0.0975,  0.4173,  0.4581, -0.0288,  0.2663])),\n             ('0.block 2.2.weight',\n              tensor([[ 0.2211,  0.1629, -0.2203,  0.0689,  0.2477, -0.2127, -0.1661, -0.3503],\n                      [ 0.0134,  0.1415,  0.0612,  0.3315,  0.1668,  0.1642, -0.1838,  0.0094],\n                      [ 0.2693, -0.2615,  0.0603,  0.0460,  0.0303,  0.1734,  0.1347, -0.0083],\n                      [ 0.1468, -0.2072,  0.3164,  0.1023,  0.2415,  0.1144,  0.0625,  0.0794]])),\n             ('0.block 2.2.bias',\n              tensor([ 0.0465, -0.0795, -0.2252,  0.1215])),\n             ('0.block 3.0.weight',\n              tensor([[ 0.1189,  0.3044,  0.3837,  0.3631],\n                      [ 0.3005, -0.2434,  0.1013,  0.1460],\n                      [ 0.0921, -0.2585,  0.3689,  0.0615],\n                      [-0.4456,  0.1368, -0.3034, -0.0160],\n                      [-0.3925, -0.1316,  0.4002, -0.3477],\n                      [ 0.4414,  0.2291, -0.3996, -0.2253],\n                      [-0.4495, -0.2833,  0.2354, -0.3531],\n                      [ 0.3503,  0.2218, -0.1810,  0.1006]])),\n             ('0.block 3.0.bias',\n              tensor([ 0.4233,  0.3076,  0.2322,  0.3583,  0.2839,  0.2036, -0.4859,  0.1473])),\n             ('0.block 3.2.weight',\n              tensor([[ 0.0864,  0.1244,  0.1804, -0.0825,  0.2656,  0.2790,  0.1921, -0.0041],\n                      [ 0.2844,  0.3195,  0.3183,  0.0354,  0.3145, -0.0119,  0.1792,  0.2854],\n                      [ 0.0354, -0.2585,  0.1416, -0.0824,  0.2856,  0.2194, -0.1635,  0.3372],\n                      [-0.1453, -0.3432,  0.2841, -0.0908,  0.3481,  0.2067,  0.2433, -0.2948]])),\n             ('0.block 3.2.bias',\n              tensor([ 0.1836, -0.1153, -0.3168,  0.3512])),\n             ('1.weight', tensor([[-0.3387,  0.4012,  0.1259,  0.1942]])),\n             ('1.bias', tensor([-0.3673]))])"
     },
     "execution_count": 16,
     "metadata": {},
     "output_type": "execute_result"
    }
   ],
   "source": [
    "rgnet.state_dict()"
   ],
   "metadata": {
    "collapsed": false,
    "ExecuteTime": {
     "end_time": "2024-03-24T12:56:17.832921Z",
     "start_time": "2024-03-24T12:56:17.821007Z"
    }
   },
   "id": "8c66c0120e83d4db",
   "execution_count": 16
  },
  {
   "cell_type": "code",
   "outputs": [
    {
     "data": {
      "text/plain": "tensor([ 0.3267,  0.0437,  0.3332,  0.1665, -0.1838, -0.4190, -0.3403, -0.1900])"
     },
     "execution_count": 17,
     "metadata": {},
     "output_type": "execute_result"
    }
   ],
   "source": [
    "rgnet[0][1][0].bias.data"
   ],
   "metadata": {
    "collapsed": false,
    "ExecuteTime": {
     "end_time": "2024-03-24T12:58:09.133523Z",
     "start_time": "2024-03-24T12:58:09.127330Z"
    }
   },
   "id": "909b75547df73774",
   "execution_count": 17
  },
  {
   "cell_type": "code",
   "outputs": [],
   "source": [],
   "metadata": {
    "collapsed": false
   },
   "id": "7ed28673d7a75d89"
  },
  {
   "cell_type": "markdown",
   "source": [
    "# 参数初始化"
   ],
   "metadata": {
    "collapsed": false
   },
   "id": "d95a70c3c011b71f"
  },
  {
   "cell_type": "code",
   "outputs": [
    {
     "data": {
      "text/plain": "(tensor([-0.0036,  0.0143, -0.0080, -0.0018]), tensor(0.))"
     },
     "execution_count": 18,
     "metadata": {},
     "output_type": "execute_result"
    }
   ],
   "source": [
    " def init_normal(m):\n",
    "    if type(m) == nn.Linear:\n",
    "        nn.init.normal_(m.weight, mean=0, std=0.01)\n",
    "        nn.init.zeros_(m.bias)\n",
    "\n",
    "net.apply(init_normal)\n",
    "net[0].weight.data[0], net[0].bias.data[0]"
   ],
   "metadata": {
    "collapsed": false,
    "ExecuteTime": {
     "end_time": "2024-03-24T13:01:10.241319Z",
     "start_time": "2024-03-24T13:01:10.230441Z"
    }
   },
   "id": "efdbd5964ea0484c",
   "execution_count": 18
  },
  {
   "cell_type": "code",
   "outputs": [
    {
     "data": {
      "text/plain": "(tensor([1., 1., 1., 1.]), tensor(0.))"
     },
     "execution_count": 19,
     "metadata": {},
     "output_type": "execute_result"
    }
   ],
   "source": [
    "def init_constant(m):\n",
    "    if type(m) == nn.Linear:\n",
    "        nn.init.constant_(m.weight, 1)\n",
    "        nn.init.zeros_(m.bias)\n",
    "        \n",
    "net.apply(init_constant)\n",
    "net[0].weight.data[0], net[0].bias.data[0]"
   ],
   "metadata": {
    "collapsed": false,
    "ExecuteTime": {
     "end_time": "2024-03-24T13:03:08.340055Z",
     "start_time": "2024-03-24T13:03:08.331686Z"
    }
   },
   "id": "3263a64bffb8ebe8",
   "execution_count": 19
  },
  {
   "cell_type": "code",
   "outputs": [],
   "source": [
    "def init_xavier(m):\n",
    "    if type(m) == nn.Linear:\n",
    "        nn.init.xavier_uniform_(m.weight)\n",
    "        \n",
    "def init_42(m):\n",
    "    if type(m) == nn.Linear:\n",
    "        nn.init.constant_(m.weight, 42)"
   ],
   "metadata": {
    "collapsed": false,
    "ExecuteTime": {
     "end_time": "2024-03-24T13:04:10.266462Z",
     "start_time": "2024-03-24T13:04:10.262693Z"
    }
   },
   "id": "680ac56ae174f56",
   "execution_count": 20
  },
  {
   "cell_type": "code",
   "outputs": [
    {
     "name": "stdout",
     "output_type": "stream",
     "text": [
      "tensor([-0.6265, -0.2868,  0.3628, -0.1430])\n",
      "tensor([[42., 42., 42., 42., 42., 42., 42., 42.]])\n"
     ]
    }
   ],
   "source": [
    "net[0].apply(init_xavier)\n",
    "net[2].apply(init_42)\n",
    "print(net[0].weight.data[0])\n",
    "print(net[2].weight.data)"
   ],
   "metadata": {
    "collapsed": false,
    "ExecuteTime": {
     "end_time": "2024-03-24T13:04:47.709435Z",
     "start_time": "2024-03-24T13:04:47.704196Z"
    }
   },
   "id": "52dfa4589aedd68e",
   "execution_count": 21
  },
  {
   "cell_type": "code",
   "outputs": [],
   "source": [
    "def my_init(m):\n",
    "    if type(m) == nn.Linear:\n",
    "        print(\"Init\", *[(name, param.shape) for name, param in m.named_parameters()][0])\n",
    "        nn.init.uniform_(m.weight, -10, 10)\n",
    "        m.weight.data *= m.weight.data.abs() >= 5"
   ],
   "metadata": {
    "collapsed": false,
    "ExecuteTime": {
     "end_time": "2024-03-24T13:07:32.786368Z",
     "start_time": "2024-03-24T13:07:32.780331Z"
    }
   },
   "id": "7f6fdd91b9c5a07b",
   "execution_count": 22
  },
  {
   "cell_type": "code",
   "outputs": [
    {
     "name": "stdout",
     "output_type": "stream",
     "text": [
      "Init weight torch.Size([8, 4])\n",
      "Init weight torch.Size([1, 8])\n"
     ]
    },
    {
     "data": {
      "text/plain": "tensor([[-0.0000, -0.0000, -0.0000,  0.0000],\n        [-9.7373, -8.8427, -0.0000, -0.0000]], grad_fn=<SliceBackward0>)"
     },
     "execution_count": 23,
     "metadata": {},
     "output_type": "execute_result"
    }
   ],
   "source": [
    "net.apply(my_init)\n",
    "net[0].weight[:2]"
   ],
   "metadata": {
    "collapsed": false,
    "ExecuteTime": {
     "end_time": "2024-03-24T13:09:12.001415Z",
     "start_time": "2024-03-24T13:09:11.992578Z"
    }
   },
   "id": "9751c25ce5041b26",
   "execution_count": 23
  },
  {
   "cell_type": "code",
   "outputs": [
    {
     "data": {
      "text/plain": "tensor([42.,  1.,  1.,  1.])"
     },
     "execution_count": 24,
     "metadata": {},
     "output_type": "execute_result"
    }
   ],
   "source": [
    "net[0].weight.data[:] += 1\n",
    "net[0].weight.data[0, 0] = 42\n",
    "net[0].weight.data[0]"
   ],
   "metadata": {
    "collapsed": false,
    "ExecuteTime": {
     "end_time": "2024-03-24T13:10:13.298687Z",
     "start_time": "2024-03-24T13:10:13.290405Z"
    }
   },
   "id": "f82b23c130a5201f",
   "execution_count": 24
  },
  {
   "cell_type": "markdown",
   "source": [
    "# 参数绑定"
   ],
   "metadata": {
    "collapsed": false
   },
   "id": "672e7839ae303fb4"
  },
  {
   "cell_type": "code",
   "outputs": [
    {
     "data": {
      "text/plain": "tensor([[-0.1004],\n        [-0.1164]], grad_fn=<AddmmBackward0>)"
     },
     "execution_count": 25,
     "metadata": {},
     "output_type": "execute_result"
    }
   ],
   "source": [
    "shared = nn.Linear(8, 8)\n",
    "net = nn.Sequential(nn.Linear(4, 8), nn.ReLU(), shared, nn.ReLU(), shared, nn.ReLU(), nn.Linear(8, 1))\n",
    "net(X)"
   ],
   "metadata": {
    "collapsed": false,
    "ExecuteTime": {
     "end_time": "2024-03-24T13:11:44.253050Z",
     "start_time": "2024-03-24T13:11:44.239255Z"
    }
   },
   "id": "e8cd8498f654d919",
   "execution_count": 25
  },
  {
   "cell_type": "code",
   "outputs": [
    {
     "name": "stdout",
     "output_type": "stream",
     "text": [
      "tensor([True, True, True, True, True, True, True, True])\n",
      "tensor([True, True, True, True, True, True, True, True])\n"
     ]
    }
   ],
   "source": [
    "print(net[2].weight.data[0] == net[4].weight.data[0])\n",
    "net[2].weight.data[0, 0] = 100\n",
    "print(net[2].weight.data[0] == net[4].weight.data[0])"
   ],
   "metadata": {
    "collapsed": false,
    "ExecuteTime": {
     "end_time": "2024-03-24T13:13:02.291841Z",
     "start_time": "2024-03-24T13:13:02.283897Z"
    }
   },
   "id": "7eefab7db8e304e9",
   "execution_count": 27
  },
  {
   "cell_type": "code",
   "outputs": [],
   "source": [],
   "metadata": {
    "collapsed": false
   },
   "id": "e1369b77946280cf"
  }
 ],
 "metadata": {
  "kernelspec": {
   "display_name": "Python 3",
   "language": "python",
   "name": "python3"
  },
  "language_info": {
   "codemirror_mode": {
    "name": "ipython",
    "version": 2
   },
   "file_extension": ".py",
   "mimetype": "text/x-python",
   "name": "python",
   "nbconvert_exporter": "python",
   "pygments_lexer": "ipython2",
   "version": "2.7.6"
  }
 },
 "nbformat": 4,
 "nbformat_minor": 5
}
