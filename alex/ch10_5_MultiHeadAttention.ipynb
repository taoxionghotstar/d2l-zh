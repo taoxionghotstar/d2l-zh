{
 "cells": [
  {
   "cell_type": "code",
   "execution_count": 1,
   "id": "initial_id",
   "metadata": {
    "collapsed": true,
    "ExecuteTime": {
     "end_time": "2024-04-07T02:54:01.742668Z",
     "start_time": "2024-04-07T02:53:59.713227Z"
    }
   },
   "outputs": [],
   "source": [
    "import math\n",
    "import torch\n",
    "from torch import nn\n",
    "from d2l import torch as d2l"
   ]
  },
  {
   "cell_type": "code",
   "outputs": [],
   "source": [
    "class MultiHeadAttention(nn.Module):\n",
    "    def __init__(self, key_size, query_size, value_size, num_hiddens, num_heads, dropout, bias=False, **kwargs):\n",
    "        super(MultiHeadAttention, self).__init__(**kwargs)\n",
    "        self.num_heads = num_heads\n",
    "        self.attention = d2l.DotProductAttention(dropout)\n",
    "        self.W_q = nn.Linear(query_size, num_hiddens, bias=bias)\n",
    "        self.W_k = nn.Linear(key_size, num_hiddens, bias=bias)\n",
    "        self.W_v = nn.Linear(value_size, num_hiddens, bias=bias)\n",
    "        self.W_o = nn.Linear(num_hiddens, num_hiddens, bias=bias)\n",
    "\n",
    "    # queries.shape = [batch_size, num_queries, num_hiddens]\n",
    "    # keys.shape = [batch_size, num_kvpairs, num_hiddens]\n",
    "    # values.shape = [batch_size, num_kvpairs, num_hiddens]\n",
    "    def forward(self, queries, keys, values, valid_lens):\n",
    "        # self.W_q(queries).shape = [batch_size, num_queries, num_hiddens]\n",
    "        # queries.shape = [batch_size * num_heads, num_queries, num_hiddens / num_heads]\n",
    "        queries = transpose_qkv(self.W_q(queries), self.num_heads)\n",
    "        # self.W_k(keys).shape = [batch_size, num_kvpairs, num_hiddens]\n",
    "        # keys.shape = [batch_size * num_heads, num_kvpairs, num_hiddens / num_heads]\n",
    "        keys = transpose_qkv(self.W_k(keys), self.num_heads)\n",
    "        # self.W_k(values).shape = [batch_size, num_kvpairs, num_hiddens]\n",
    "        # values.shape = [batch_size * num_heads, num_kvpairs, num_hiddens / num_heads]\n",
    "        values = transpose_qkv(self.W_v(values), self.num_heads)\n",
    "        if valid_lens is not None:\n",
    "            # valid_lens.shape\n",
    "            valid_lens = torch.repeat_interleave(valid_lens, repeats=self.num_heads, dim=0)\n",
    "        # output.shape = [batch_size * num_heads, num_queries, num_hiddens / num_heads]\n",
    "        output = self.attention(queries, keys, values, valid_lens)\n",
    "        # output_concat.shape = [batch_size, num_queries, num_hiddens]\n",
    "        output_concat = transpose_output(output, self.num_heads)\n",
    "        # 输出.shape = [batch_size, num_queries, num_hiddens]\n",
    "        return self.W_o(output_concat)\n",
    "\n",
    "\n",
    "def transpose_qkv(X, num_heads):\n",
    "    X = X.reshape(X.shape[0], X.shape[1], num_heads, -1)\n",
    "    X = X.permute(0, 2, 1, 3)\n",
    "    return X.reshape(-1, X.shape[2], X.shape[3])\n",
    "\n",
    "\n",
    "# X.shape = [batch_size * num_heads, num_kvpairs, num_hiddens / num_heads]\n",
    "def transpose_output(X, num_heads):\n",
    "    # X.shape = [batch_size, num_heads, num_kvpairs, num_hiddens / num_heads]\n",
    "    X = X.reshape(-1, num_heads, X.shape[1], X.shape[2])\n",
    "    # X.shape = [batch_size, num_kvpairs, num_heads, num_hiddens / num_heads]\n",
    "    X = X.permute(0, 2, 1, 3)\n",
    "    # 输出.shape = [batch_size, num_kvpairs, num_hiddens]\n",
    "    return X.reshape(X.shape[0], X.shape[1], -1)"
   ],
   "metadata": {
    "collapsed": false,
    "ExecuteTime": {
     "end_time": "2024-04-07T03:01:34.577604Z",
     "start_time": "2024-04-07T03:01:34.566818Z"
    }
   },
   "id": "7be274258b221e50",
   "execution_count": 2
  },
  {
   "cell_type": "code",
   "outputs": [
    {
     "data": {
      "text/plain": "MultiHeadAttention(\n  (attention): DotProductAttention(\n    (dropout): Dropout(p=0.5, inplace=False)\n  )\n  (W_q): Linear(in_features=100, out_features=100, bias=False)\n  (W_k): Linear(in_features=100, out_features=100, bias=False)\n  (W_v): Linear(in_features=100, out_features=100, bias=False)\n  (W_o): Linear(in_features=100, out_features=100, bias=False)\n)"
     },
     "execution_count": 3,
     "metadata": {},
     "output_type": "execute_result"
    }
   ],
   "source": [
    "num_hiddens, num_heads = 100, 5\n",
    "attention = MultiHeadAttention(num_hiddens, num_hiddens, num_hiddens, num_hiddens, num_heads, 0.5)\n",
    "attention.eval()"
   ],
   "metadata": {
    "collapsed": false,
    "ExecuteTime": {
     "end_time": "2024-04-07T03:02:54.897165Z",
     "start_time": "2024-04-07T03:02:54.848525Z"
    }
   },
   "id": "67ebb5424386f445",
   "execution_count": 3
  },
  {
   "cell_type": "code",
   "outputs": [
    {
     "data": {
      "text/plain": "torch.Size([2, 4, 100])"
     },
     "execution_count": 4,
     "metadata": {},
     "output_type": "execute_result"
    }
   ],
   "source": [
    "batch_size, num_queries = 2, 4\n",
    "num_kvpairs, valid_lens = 6, torch.tensor([3, 2])\n",
    "X = torch.ones((batch_size, num_queries, num_hiddens))\n",
    "Y = torch.ones((batch_size, num_kvpairs, num_hiddens))\n",
    "attention(X, Y, Y, valid_lens).shape"
   ],
   "metadata": {
    "collapsed": false,
    "ExecuteTime": {
     "end_time": "2024-04-07T03:04:27.611910Z",
     "start_time": "2024-04-07T03:04:27.574984Z"
    }
   },
   "id": "3656a9aff155fae7",
   "execution_count": 4
  },
  {
   "cell_type": "code",
   "outputs": [],
   "source": [],
   "metadata": {
    "collapsed": false
   },
   "id": "53d0222e5dcea32a"
  }
 ],
 "metadata": {
  "kernelspec": {
   "display_name": "Python 3",
   "language": "python",
   "name": "python3"
  },
  "language_info": {
   "codemirror_mode": {
    "name": "ipython",
    "version": 2
   },
   "file_extension": ".py",
   "mimetype": "text/x-python",
   "name": "python",
   "nbconvert_exporter": "python",
   "pygments_lexer": "ipython2",
   "version": "2.7.6"
  }
 },
 "nbformat": 4,
 "nbformat_minor": 5
}
